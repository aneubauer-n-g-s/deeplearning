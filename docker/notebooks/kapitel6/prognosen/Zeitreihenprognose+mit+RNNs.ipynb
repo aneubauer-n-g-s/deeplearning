{
 "cells": [
  {
   "cell_type": "code",
   "execution_count": 1,
   "metadata": {
    "collapsed": true
   },
   "outputs": [],
   "source": [
    "%matplotlib inline\n",
    "import tensorflow as tf\n",
    "import numpy as np\n",
    "import pandas as pd\n",
    "from matplotlib import pyplot as plt"
   ]
  },
  {
   "cell_type": "code",
   "execution_count": 100,
   "metadata": {
    "collapsed": true
   },
   "outputs": [],
   "source": [
    "LOG_DIR = './ops_logs'\n",
    "TIMESTEPS = 20\n",
    "TRAINING_STEPS = 10000\n",
    "BATCH_SIZE = 100\n",
    "PRINT_STEPS = TRAINING_STEPS / 10\n",
    "INPUTS = 1\n",
    "NEURONS = 20\n",
    "OUTPUTS = 1\n",
    "LEARNING_RATE = 0.003"
   ]
  },
  {
   "cell_type": "code",
   "execution_count": 101,
   "metadata": {
    "collapsed": true
   },
   "outputs": [],
   "source": [
    "def rnn_data(data, time_steps):\n",
    "    \"\"\"\n",
    "    Teilt die Daten in time_steps Portionen auf\n",
    "    \"\"\"\n",
    "    rnn_df = []\n",
    "    for i in range(len(data) - time_steps):\n",
    "        data_ = data.iloc[i: i + time_steps].as_matrix()\n",
    "        rnn_df.append(data_ if len(data_.shape) > 1 else [[i] for i in data_])\n",
    "    return np.array(rnn_df)\n",
    "\n",
    "\n",
    "def split_data(data, val_size=0.1, test_size=0.1):\n",
    "    \"\"\"\n",
    "    Teilt die Daten in Trainings-, Test- und einen Validierungsteil\n",
    "    \"\"\"\n",
    "    ntest = int(round(len(data) * (1 - test_size)))\n",
    "    nval = int(round(len(data.iloc[:ntest]) * (1 - val_size)))\n",
    "\n",
    "    df_train, df_val, df_test = data.iloc[:nval], data.iloc[nval:ntest], data.iloc[ntest:]\n",
    "\n",
    "    return df_train, df_val, df_test\n",
    "\n",
    "\n",
    "def prepare_data(data, time_steps, val_size=0.05, test_size=0.05):\n",
    "    \"\"\"\n",
    "    Bereitet die Training- Test- und Validierungsdaten vor\n",
    "    \"\"\"\n",
    "    df_train, df_val, df_test = split_data(data, val_size, test_size)\n",
    "    return (rnn_data(df_train, time_steps),\n",
    "            rnn_data(df_val, time_steps),\n",
    "            rnn_data(df_test, time_steps))\n",
    "\n",
    "\n",
    "def load_csvdata(rawdata, time_steps, seperate=False):\n",
    "    \"\"\"\n",
    "    Erzeug Trainings-, Test- und Validierungsdaten in Form eines DataFrame\n",
    "    \"\"\"\n",
    "    data = rawdata\n",
    "    train_x, val_x, test_x = prepare_data(data['a'] if seperate else data, time_steps)\n",
    "    return dict(train=train_x, val=val_x, test=test_x)\n"
   ]
  },
  {
   "cell_type": "code",
   "execution_count": 102,
   "metadata": {
    "collapsed": true
   },
   "outputs": [],
   "source": [
    "# Parser für das Datumsformat\n",
    "dateparse = lambda dates: pd.datetime.strptime(dates, '%d/%m/%Y %H:%M')\n",
    "\n",
    "# Daten einlesen\n",
    "rawdata = pd.read_csv(\"/tmp/RealMarketPriceDataPT.csv\", \n",
    "                   parse_dates={'timeline': ['date', '(UTC)']}, \n",
    "                   index_col='timeline', date_parser=dateparse)\n",
    "\n",
    "# CSV Daten aufteilen\n",
    "x_data = load_csvdata(rawdata, TIMESTEPS, seperate=False)"
   ]
  },
  {
   "cell_type": "code",
   "execution_count": 103,
   "metadata": {},
   "outputs": [
    {
     "name": "stdout",
     "output_type": "stream",
     "text": [
      "('x_test : ', 559)\n",
      "('x_train : ', 10440)\n",
      "('x_val : ', 531)\n"
     ]
    }
   ],
   "source": [
    "# Die Daten liegen jetzt in Form von 'train', 'test' und 'val' vor\n",
    "print('x_test : ', len(x_data['test']))\n",
    "print('x_train : ', len(x_data['train']))\n",
    "print('x_val : ', len(x_data['val']))"
   ]
  },
  {
   "cell_type": "code",
   "execution_count": 104,
   "metadata": {},
   "outputs": [
    {
     "name": "stdout",
     "output_type": "stream",
     "text": [
      "(10440, 20, 1)\n"
     ]
    }
   ],
   "source": [
    "# Daten haben die Form (Anzahl_Gesamt, Teil, Wert)\n",
    "print(x_data['train'].shape)"
   ]
  },
  {
   "cell_type": "code",
   "execution_count": 105,
   "metadata": {
    "collapsed": true
   },
   "outputs": [],
   "source": [
    "def next_batch(batch_size, n_steps, data):\n",
    "    \"\"\"\n",
    "    Liefert per Zufall zwei Datensätze zurück, welche n_steps groß sind und um einen Wert\n",
    "    verschoben sind.\n",
    "    \"\"\"\n",
    "    idx = np.arange(0, len(data))  \n",
    "    np.random.shuffle(idx)  \n",
    "    idx = idx[0:n_steps]  \n",
    "    data_shuffle = [data[i] for i in idx]  \n",
    "    data_shuffle = np.asarray(data_shuffle)  \n",
    "    return data_shuffle[:, 1:].reshape(-1, n_steps, 1), data_shuffle[:, 1:].reshape(-1, n_steps, 1)"
   ]
  },
  {
   "cell_type": "code",
   "execution_count": 106,
   "metadata": {},
   "outputs": [
    {
     "data": {
      "text/plain": [
       "array([[ 23.55,  23.55],\n",
       "       [ 30.  ,  30.  ],\n",
       "       [ 37.7 ,  37.7 ],\n",
       "       [ 39.25,  39.25],\n",
       "       [ 41.7 ,  41.7 ],\n",
       "       [ 39.02,  39.02],\n",
       "       [ 38.  ,  38.  ],\n",
       "       [ 37.7 ,  37.7 ],\n",
       "       [ 37.7 ,  37.7 ],\n",
       "       [ 35.68,  35.68],\n",
       "       [ 32.  ,  32.  ],\n",
       "       [ 36.8 ,  36.8 ],\n",
       "       [ 38.5 ,  38.5 ],\n",
       "       [ 41.39,  41.39],\n",
       "       [ 42.1 ,  42.1 ],\n",
       "       [ 52.56,  52.56],\n",
       "       [ 60.7 ,  60.7 ],\n",
       "       [ 60.95,  60.95],\n",
       "       [ 30.33,  30.33],\n",
       "       [ 26.1 ,  26.1 ]])"
      ]
     },
     "execution_count": 106,
     "metadata": {},
     "output_type": "execute_result"
    }
   ],
   "source": [
    "# Die Trainigsdaten sehen wie folgt aus\n",
    "x_train, y_train = next_batch(BATCH_SIZE, TIMESTEPS, x_data['train'])\n",
    "# Es ist immer ein Tageswert versetzt\n",
    "np.c_[x_train[1], y_train[1]]"
   ]
  },
  {
   "cell_type": "code",
   "execution_count": 107,
   "metadata": {},
   "outputs": [],
   "source": [
    "# TensorFlow Default Graph zurücksetzen\n",
    "tf.reset_default_graph()\n",
    "\n",
    "# Placeholder für die Eingabe- und Ausgabe-Daten\n",
    "X = tf.placeholder(tf.float32, [None, TIMESTEPS, INPUTS])\n",
    "y = tf.placeholder(tf.float32, [None, TIMESTEPS, OUTPUTS])\n",
    "\n",
    "cell = tf.contrib.rnn.BasicRNNCell(num_units=NEURONS, activation=tf.nn.relu)\n",
    "output_projection_cell = tf.contrib.rnn.OutputProjectionWrapper(cell, output_size=OUTPUTS)\n",
    "outputs, states = tf.nn.dynamic_rnn(output_projection_cell, X, dtype=tf.float32)\n",
    "\n",
    "loss = tf.reduce_sum(tf.square(outputs - y))\n",
    "optimizer = tf.train.AdamOptimizer(learning_rate=LEARNING_RATE)\n",
    "#optimizer = tf.train.AdagradOptimizer(learning_rate=0.005,initial_accumulator_value=0.1)\n",
    "training_op = optimizer.minimize(loss)\n",
    "\n",
    "init = tf.global_variables_initializer()"
   ]
  },
  {
   "cell_type": "code",
   "execution_count": 108,
   "metadata": {
    "collapsed": true
   },
   "outputs": [],
   "source": [
    "y_pred = []\n",
    "x_test, y_test = next_batch(1, TIMESTEPS, x_data['test'])"
   ]
  },
  {
   "cell_type": "code",
   "execution_count": 109,
   "metadata": {},
   "outputs": [
    {
     "name": "stdout",
     "output_type": "stream",
     "text": [
      "(0, 'MSE: 1077607.875000')\n",
      "(1000, 'MSE: 16.455349')\n",
      "(2000, 'MSE: 42.021446')\n",
      "(3000, 'MSE: 45.631641')\n",
      "(4000, 'MSE: 18.862907')\n",
      "(5000, 'MSE: 13.761512')\n",
      "(6000, 'MSE: 2.801513')\n",
      "(7000, 'MSE: 8.056877')\n",
      "(8000, 'MSE: 2.722856')\n",
      "(9000, 'MSE: 2.135699')\n",
      "Model saved in file: ./timeseries-model.ckpt\n"
     ]
    }
   ],
   "source": [
    "saver = tf.train.Saver()\n",
    "with tf.Session() as sess:\n",
    "    init.run()\n",
    "    for iteration in range(TRAINING_STEPS):\n",
    "        x_batch, y_batch = next_batch(BATCH_SIZE, TIMESTEPS, x_data['train'])\n",
    "        sess.run(training_op, feed_dict={X: x_batch, y: y_batch})\n",
    "        if iteration % PRINT_STEPS == 0:\n",
    "            mse = loss.eval(feed_dict={X: x_batch, y: y_batch})\n",
    "            print(iteration, \"MSE: %f\" % mse)\n",
    "    \n",
    "    y_pred = sess.run(outputs, feed_dict={X: x_test})\n",
    "    save_path = saver.save(sess, \"./timeseries-model.ckpt\")\n",
    "    print(\"Model saved in file: %s\" % save_path)"
   ]
  },
  {
   "cell_type": "code",
   "execution_count": 110,
   "metadata": {},
   "outputs": [
    {
     "data": {
      "image/png": "[encoded data removed]",
      "text/plain": [
       "<matplotlib.figure.Figure at 0x7fea7019c6d0>"
      ]
     },
     "metadata": {},
     "output_type": "display_data"
    }
   ],
   "source": [
    "plt.title(\"Modell Test\", fontsize=14)\n",
    "plt.plot(y_pred[0,:,0], label=\"Vorhersagedaten\")\n",
    "plt.plot(x_test[0,:,0], label=\"Testdaten\")\n",
    "plt.xlabel(\"Tage\")\n",
    "plt.ylabel(\"Wert\")\n",
    "plt.legend(loc=\"upper left\")\n",
    "plt.show()"
   ]
  },
  {
   "cell_type": "code",
   "execution_count": null,
   "metadata": {
    "collapsed": true
   },
   "outputs": [],
   "source": []
  }
 ],
 "metadata": {
  "kernelspec": {
   "display_name": "Python 2",
   "language": "python",
   "name": "python2"
  },
  "language_info": {
   "codemirror_mode": {
    "name": "ipython",
    "version": 2
   },
   "file_extension": ".py",
   "mimetype": "text/x-python",
   "name": "python",
   "nbconvert_exporter": "python",
   "pygments_lexer": "ipython2",
   "version": "2.7.12"
  }
 },
 "nbformat": 4,
 "nbformat_minor": 2
}
