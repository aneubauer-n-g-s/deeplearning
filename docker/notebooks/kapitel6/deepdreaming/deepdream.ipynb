{
 "cells": [
  {
   "cell_type": "code",
   "execution_count": 1,
   "metadata": {},
   "outputs": [],
   "source": [
    "import os\n",
    "import numpy as np\n",
    "import time\n",
    "import shutil\n",
    "import pickle\n",
    "import random\n",
    "from PIL import Image, ImageOps"
   ]
  },
  {
   "cell_type": "code",
   "execution_count": 17,
   "metadata": {},
   "outputs": [],
   "source": [
    "def shuffle_in_unison(a, b):\n",
    "    # Gefunden bei http://stackoverflow.com/users/190280/josh-bleecher-snyder \n",
    "    assert len(a) == len(b)\n",
    "    shuffled_a = np.empty(a.shape, dtype=a.dtype)\n",
    "    shuffled_b = np.empty(b.shape, dtype=b.dtype) \n",
    "    permutation = np.random.permutation(len(a))\n",
    "    for old_index, new_index in enumerate(permutation):\n",
    "        shuffled_a[new_index] = a[old_index]\n",
    "        shuffled_b[new_index] = b[old_index] \n",
    "    return shuffled_a, shuffled_b"
   ]
  },
  {
   "cell_type": "code",
   "execution_count": 18,
   "metadata": {},
   "outputs": [],
   "source": [
    "def move_files(input, output): \n",
    "    '''\n",
    "        Input: Verzeichnis mit Bildern, wobei jede Klasse durch ein separates Verzeichnis representiert wird\n",
    "        Output: Alle Bilder im Format Klasse_Nummer.jpg; Ausgabepfad ist absolut\n",
    "    '''\n",
    "    index = -1\n",
    "    for root, dirs, files in os.walk(input):\n",
    "        path = root.split('/')\n",
    "        print('Gehe ins Verzeichnis ', path) \n",
    "        print('Klassen Index ', index) \n",
    "        filenum = 0\n",
    "\n",
    "        for file in files:\n",
    "            fileName, fileExtension = os.path.splitext(file) \n",
    "            if fileExtension == '.jpg':\n",
    "                full_path = path[0] + '/' + path[1] + '/' + file \n",
    "                print('kopiere Quelldatei ', full_path)\n",
    "                if (os.path.isfile(full_path)):\n",
    "                    file = str(index) + '_ ' + path[1] + str(filenum) + fileExtension\n",
    "                    print('erzeuge Zieldatei ' + output + '/' + file)\n",
    "                    shutil.copy(full_path, output + '/' + file) \n",
    "                    filenum += 1\n",
    "                    index += 1"
   ]
  },
  {
   "cell_type": "code",
   "execution_count": 19,
   "metadata": {},
   "outputs": [],
   "source": [
    "def create_feed_files(input_path, percentage):\n",
    "    '''\n",
    "    Erzeugt eine train.txt und val.txt Datei fuer Caffe\n",
    "    '''\n",
    "    images, labels = [], [] \n",
    "    os.chdir(input_path)\n",
    "    for item in os.listdir('.'):\n",
    "        if not os.path.isfile(os.path.join('.', item)): continue\n",
    "        try:\n",
    "            label = int(item.split('_')[0]) \n",
    "            images.append(input_path+'/'+item) \n",
    "            labels.append(label)\n",
    "        except:\n",
    "            continue\n",
    "\n",
    "        images = np.array(images)\n",
    "    labels = np.array(labels)\n",
    "    images, labels = shuffle_in_unison(images, labels) \n",
    "    X_train = images[0:int(len(images) * percentage)] \n",
    "    y_train = labels[0:int(len(labels) * percentage)] \n",
    "    X_test = images[int(len(images) * percentage):] \n",
    "    y_test = labels[int(len(labels) * percentage):] \n",
    "    trainfile = open(\"train.txt\", \"w\")\n",
    "    for i, l in zip(X_train, y_train): \n",
    "        trainfile.write(i + \" \" + str(l) + \"\\n\")\n",
    "        \n",
    "    testfile = open(\"val.txt\", \"w\") \n",
    "    for i, l in zip(X_test, y_test):\n",
    "        testfile.write(i + \" \" + str(l) + \"\\n\") \n",
    "        \n",
    "    trainfile.close()    \n",
    "    testfile.close()"
   ]
  },
  {
   "cell_type": "code",
   "execution_count": 20,
   "metadata": {},
   "outputs": [
    {
     "ename": "OSError",
     "evalue": "[Errno 2] No such file or directory: 'images'",
     "output_type": "error",
     "traceback": [
      "\u001b[0;31m---------------------------------------------------------------------------\u001b[0m",
      "\u001b[0;31mOSError\u001b[0m                                   Traceback (most recent call last)",
      "\u001b[0;32m<ipython-input-20-247fbfd22132>\u001b[0m in \u001b[0;36m<module>\u001b[0;34m()\u001b[0m\n\u001b[1;32m      7\u001b[0m \u001b[0;34m\u001b[0m\u001b[0m\n\u001b[1;32m      8\u001b[0m \u001b[0;32mif\u001b[0m \u001b[0m__name__\u001b[0m \u001b[0;34m==\u001b[0m \u001b[0;34m\"__main__\"\u001b[0m\u001b[0;34m:\u001b[0m\u001b[0;34m\u001b[0m\u001b[0m\n\u001b[0;32m----> 9\u001b[0;31m     \u001b[0mmain\u001b[0m\u001b[0;34m(\u001b[0m\u001b[0;34m)\u001b[0m\u001b[0;34m\u001b[0m\u001b[0m\n\u001b[0m",
      "\u001b[0;32m<ipython-input-20-247fbfd22132>\u001b[0m in \u001b[0;36mmain\u001b[0;34m()\u001b[0m\n\u001b[1;32m      4\u001b[0m     \u001b[0mtrain_percentage\u001b[0m \u001b[0;34m=\u001b[0m \u001b[0;36m0.85\u001b[0m\u001b[0;34m\u001b[0m\u001b[0m\n\u001b[1;32m      5\u001b[0m     \u001b[0mmove_files\u001b[0m\u001b[0;34m(\u001b[0m\u001b[0msrc_path\u001b[0m\u001b[0;34m,\u001b[0m \u001b[0mtarget_path\u001b[0m\u001b[0;34m)\u001b[0m\u001b[0;34m\u001b[0m\u001b[0m\n\u001b[0;32m----> 6\u001b[0;31m     \u001b[0mcreate_feed_files\u001b[0m\u001b[0;34m(\u001b[0m\u001b[0mtarget_path\u001b[0m\u001b[0;34m,\u001b[0m \u001b[0mtrain_percentage\u001b[0m\u001b[0;34m)\u001b[0m\u001b[0;34m\u001b[0m\u001b[0m\n\u001b[0m\u001b[1;32m      7\u001b[0m \u001b[0;34m\u001b[0m\u001b[0m\n\u001b[1;32m      8\u001b[0m \u001b[0;32mif\u001b[0m \u001b[0m__name__\u001b[0m \u001b[0;34m==\u001b[0m \u001b[0;34m\"__main__\"\u001b[0m\u001b[0;34m:\u001b[0m\u001b[0;34m\u001b[0m\u001b[0m\n",
      "\u001b[0;32m<ipython-input-19-1062d07b7a0a>\u001b[0m in \u001b[0;36mcreate_feed_files\u001b[0;34m(input_path, percentage)\u001b[0m\n\u001b[1;32m      4\u001b[0m     '''\n\u001b[1;32m      5\u001b[0m     \u001b[0mimages\u001b[0m\u001b[0;34m,\u001b[0m \u001b[0mlabels\u001b[0m \u001b[0;34m=\u001b[0m \u001b[0;34m[\u001b[0m\u001b[0;34m]\u001b[0m\u001b[0;34m,\u001b[0m \u001b[0;34m[\u001b[0m\u001b[0;34m]\u001b[0m\u001b[0;34m\u001b[0m\u001b[0m\n\u001b[0;32m----> 6\u001b[0;31m     \u001b[0mos\u001b[0m\u001b[0;34m.\u001b[0m\u001b[0mchdir\u001b[0m\u001b[0;34m(\u001b[0m\u001b[0minput_path\u001b[0m\u001b[0;34m)\u001b[0m\u001b[0;34m\u001b[0m\u001b[0m\n\u001b[0m\u001b[1;32m      7\u001b[0m     \u001b[0;32mfor\u001b[0m \u001b[0mitem\u001b[0m \u001b[0;32min\u001b[0m \u001b[0mos\u001b[0m\u001b[0;34m.\u001b[0m\u001b[0mlistdir\u001b[0m\u001b[0;34m(\u001b[0m\u001b[0;34m'.'\u001b[0m\u001b[0;34m)\u001b[0m\u001b[0;34m:\u001b[0m\u001b[0;34m\u001b[0m\u001b[0m\n\u001b[1;32m      8\u001b[0m         \u001b[0;32mif\u001b[0m \u001b[0;32mnot\u001b[0m \u001b[0mos\u001b[0m\u001b[0;34m.\u001b[0m\u001b[0mpath\u001b[0m\u001b[0;34m.\u001b[0m\u001b[0misfile\u001b[0m\u001b[0;34m(\u001b[0m\u001b[0mos\u001b[0m\u001b[0;34m.\u001b[0m\u001b[0mpath\u001b[0m\u001b[0;34m.\u001b[0m\u001b[0mjoin\u001b[0m\u001b[0;34m(\u001b[0m\u001b[0;34m'.'\u001b[0m\u001b[0;34m,\u001b[0m \u001b[0mitem\u001b[0m\u001b[0;34m)\u001b[0m\u001b[0;34m)\u001b[0m\u001b[0;34m:\u001b[0m \u001b[0;32mcontinue\u001b[0m\u001b[0;34m\u001b[0m\u001b[0m\n",
      "\u001b[0;31mOSError\u001b[0m: [Errno 2] No such file or directory: 'images'"
     ]
    }
   ],
   "source": [
    "def main():\n",
    "    src_path = 'src_images'\n",
    "    target_path = 'images'\n",
    "    train_percentage = 0.85\n",
    "    move_files(src_path, target_path) \n",
    "    create_feed_files(target_path, train_percentage)\n",
    "    \n",
    "if __name__ == \"__main__\": \n",
    "    main()\n"
   ]
  },
  {
   "cell_type": "code",
   "execution_count": 21,
   "metadata": {},
   "outputs": [
    {
     "name": "stdout",
     "output_type": "stream",
     "text": [
      "total 12\r\n",
      "drwxr-xr-x 2 root 4096 Nov 21  2016 \u001b[0m\u001b[01;34mcontent\u001b[0m/\r\n",
      "drwxr-xr-x 2 root 4096 Nov 21  2016 \u001b[01;34mresults\u001b[0m/\r\n",
      "drwxr-xr-x 2 root 4096 Nov 21  2016 \u001b[01;34mstyle\u001b[0m/\r\n"
     ]
    }
   ],
   "source": [
    "%ll"
   ]
  },
  {
   "cell_type": "code",
   "execution_count": null,
   "metadata": {},
   "outputs": [],
   "source": []
  }
 ],
 "metadata": {
  "kernelspec": {
   "display_name": "Python 2",
   "language": "python",
   "name": "python2"
  },
  "language_info": {
   "codemirror_mode": {
    "name": "ipython",
    "version": 2
   },
   "file_extension": ".py",
   "mimetype": "text/x-python",
   "name": "python",
   "nbconvert_exporter": "python",
   "pygments_lexer": "ipython2",
   "version": "2.7.12"
  }
 },
 "nbformat": 4,
 "nbformat_minor": 2
}
