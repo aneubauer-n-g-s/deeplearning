{
 "cells": [
  {
   "cell_type": "code",
   "execution_count": 2,
   "metadata": {},
   "outputs": [],
   "source": [
    "import tensorflow as tf"
   ]
  },
  {
   "cell_type": "code",
   "execution_count": 3,
   "metadata": {},
   "outputs": [],
   "source": [
    "training_data_xor = tf.placeholder(tf.float32, shape=[4,2], name = 'Trainingsdaten')\n",
    "y = tf.placeholder(tf.float32, shape=[4,1], name = 'Ausgabedaten')"
   ]
  },
  {
   "cell_type": "code",
   "execution_count": 6,
   "metadata": {},
   "outputs": [],
   "source": [
    "weights_layer1 = tf.Variable(tf.random_uniform([2,2], -1, 1), name = \"Gewichte_Layer1\")"
   ]
  },
  {
   "cell_type": "code",
   "execution_count": 8,
   "metadata": {},
   "outputs": [],
   "source": [
    "weights_layer2 = tf.Variable(tf.random_uniform([2,1], -1, 1), name = \"Gewichte_Layer2\")"
   ]
  },
  {
   "cell_type": "code",
   "execution_count": 9,
   "metadata": {},
   "outputs": [],
   "source": [
    "bias_layer1 = tf.Variable(tf.zeros([2]), name = \"Bias_Layer1\")\n",
    "bias_layer2 = tf.Variable(tf.zeros([1]), name = \"Bias_Layer2\")"
   ]
  },
  {
   "cell_type": "code",
   "execution_count": 10,
   "metadata": {},
   "outputs": [],
   "source": [
    "with tf.name_scope(\"Layer1\") as scope:\n",
    "    hidden_result = tf.sigmoid(tf.matmul(training_data_xor, weights_layer1) + bias_layer1)"
   ]
  },
  {
   "cell_type": "code",
   "execution_count": 11,
   "metadata": {},
   "outputs": [],
   "source": [
    "with tf.name_scope(\"Layer2\") as scope:\n",
    "    hidden_error = tf.sigmoid(tf.matmul(hidden_result, weights_layer2) + bias_layer2)"
   ]
  },
  {
   "cell_type": "code",
   "execution_count": 12,
   "metadata": {},
   "outputs": [],
   "source": [
    "with tf.name_scope(\"Kostenfunktion\") as scope:\n",
    "    cost = tf.reduce_mean(( (y * tf.log(hidden_error)) + ((1 - y) * tf.log(1.0 - hidden_error)) ) * -1)"
   ]
  },
  {
   "cell_type": "code",
   "execution_count": 13,
   "metadata": {},
   "outputs": [],
   "source": [
    "learning_rate = 0.01\n",
    "with tf.name_scope(\"Training\") as scope:\n",
    "    train_step = tf.train.GradientDescentOptimizer(learning_rate=learning_rate). minimize(cost)"
   ]
  },
  {
   "cell_type": "code",
   "execution_count": 14,
   "metadata": {},
   "outputs": [],
   "source": [
    "X = [ [0,0], [0,1], [1,0], [1,1] ]\n",
    "Y=[ [0], [1], [1], [0] ]"
   ]
  },
  {
   "cell_type": "code",
   "execution_count": 15,
   "metadata": {},
   "outputs": [],
   "source": [
    "init = tf.global_variables_initializer()"
   ]
  },
  {
   "cell_type": "code",
   "execution_count": 16,
   "metadata": {},
   "outputs": [],
   "source": [
    "s = tf.Session()"
   ]
  },
  {
   "cell_type": "code",
   "execution_count": 17,
   "metadata": {},
   "outputs": [],
   "source": [
    "writer = tf.summary.FileWriter(\"/tmp/xor_logs\", s.graph)"
   ]
  },
  {
   "cell_type": "code",
   "execution_count": 18,
   "metadata": {},
   "outputs": [],
   "source": [
    "s.run(init)"
   ]
  },
  {
   "cell_type": "code",
   "execution_count": null,
   "metadata": {},
   "outputs": [
    {
     "name": "stdout",
     "output_type": "stream",
     "text": [
      "('Iteration ', 0)\n",
      "('Fehler ', array([[ 0.5208087 ],\n",
      "       [ 0.49852028],\n",
      "       [ 0.49569988],\n",
      "       [ 0.47174403]], dtype=float32))\n",
      "('Gewichte Layer1 ', array([[ 0.17357044,  0.77568883],\n",
      "       [-0.59358358, -0.23526697]], dtype=float32))\n",
      "('Gewichte Layer2 ', array([[ 0.92775899],\n",
      "       [-0.76125115]], dtype=float32))\n",
      "('Kosten ', 0.69293129)\n",
      "('Iteration ', 10000)\n",
      "('Fehler ', array([[ 0.51543003],\n",
      "       [ 0.50118393],\n",
      "       [ 0.49979988],\n",
      "       [ 0.47730735]], dtype=float32))\n",
      "('Gewichte Layer1 ', array([[ 0.41214275,  0.95252287],\n",
      "       [-0.69564396, -0.50633544]], dtype=float32))\n",
      "('Gewichte Layer2 ', array([[ 0.99829918],\n",
      "       [-0.8089875 ]], dtype=float32))\n",
      "('Kosten ', 0.68939614)\n"
     ]
    }
   ],
   "source": [
    "iterations = 50000\n",
    "for i in range(iterations):\n",
    "    s.run(train_step, feed_dict={training_data_xor: X, y: Y})\n",
    "    if i % 10000 == 0:\n",
    "        print('Iteration ', i)\n",
    "        print('Fehler ', s.run(hidden_error, feed_dict={training_data_xor: X, y: Y}))\n",
    "        print('Gewichte Layer1 ', s.run(weights_layer1))\n",
    "        print('Gewichte Layer2 ', s.run(weights_layer2))\n",
    "        print('Kosten ', s.run(cost, feed_dict={training_data_xor: X, y: Y}))\n",
    "        "
   ]
  },
  {
   "cell_type": "code",
   "execution_count": null,
   "metadata": {},
   "outputs": [],
   "source": []
  }
 ],
 "metadata": {
  "kernelspec": {
   "display_name": "Python 2",
   "language": "python",
   "name": "python2"
  },
  "language_info": {
   "codemirror_mode": {
    "name": "ipython",
    "version": 2
   },
   "file_extension": ".py",
   "mimetype": "text/x-python",
   "name": "python",
   "nbconvert_exporter": "python",
   "pygments_lexer": "ipython2",
   "version": "2.7.12"
  }
 },
 "nbformat": 4,
 "nbformat_minor": 2
}
