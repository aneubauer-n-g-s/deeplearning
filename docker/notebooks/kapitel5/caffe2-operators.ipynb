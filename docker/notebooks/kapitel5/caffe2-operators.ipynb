{
 "cells": [
  {
   "cell_type": "code",
   "execution_count": 1,
   "metadata": {},
   "outputs": [
    {
     "name": "stderr",
     "output_type": "stream",
     "text": [
      "WARNING:root:This caffe2 python run does not have GPU support. Will run in CPU only mode.\n",
      "WARNING:root:Debug message: No module named caffe2_pybind11_state_gpu\n"
     ]
    }
   ],
   "source": [
    "from caffe2.python import core, workspace\n",
    "import numpy as np "
   ]
  },
  {
   "cell_type": "code",
   "execution_count": 2,
   "metadata": {},
   "outputs": [],
   "source": [
    "X = np.random.rand(2, 5, 3).astype(np.float32) "
   ]
  },
  {
   "cell_type": "code",
   "execution_count": 3,
   "metadata": {},
   "outputs": [
    {
     "name": "stdout",
     "output_type": "stream",
     "text": [
      "[[[ 0.24687533  0.88691854  0.2724967 ]\n",
      "  [ 0.63865823  0.84956026  0.06888136]\n",
      "  [ 0.70406801  0.71547377  0.7400828 ]\n",
      "  [ 0.91612256  0.69894713  0.47145969]\n",
      "  [ 0.42497662  0.37014362  0.07496428]]\n",
      "\n",
      " [[ 0.60018927  0.46916196  0.03994764]\n",
      "  [ 0.93692034  0.20711136  0.92701334]\n",
      "  [ 0.50472409  0.54931086  0.97193342]\n",
      "  [ 0.56057662  0.82151747  0.33385313]\n",
      "  [ 0.65733653  0.63362354  0.11832458]]]\n"
     ]
    }
   ],
   "source": [
    "print(X)"
   ]
  },
  {
   "cell_type": "code",
   "execution_count": 4,
   "metadata": {},
   "outputs": [],
   "source": [
    "sqr_op = core.CreateOperator( \"Sqr\", [\"X\"],[\"Z\"], name=\"sqr_op\") \n"
   ]
  },
  {
   "cell_type": "code",
   "execution_count": 5,
   "metadata": {},
   "outputs": [
    {
     "name": "stdout",
     "output_type": "stream",
     "text": [
      "input: \"X\"\n",
      "output: \"Z\"\n",
      "name: \"sqr_op\"\n",
      "type: \"Sqr\"\n",
      "\n"
     ]
    }
   ],
   "source": [
    "print(str(sqr_op))"
   ]
  },
  {
   "cell_type": "code",
   "execution_count": 6,
   "metadata": {},
   "outputs": [
    {
     "data": {
      "text/plain": [
       "True"
      ]
     },
     "execution_count": 6,
     "metadata": {},
     "output_type": "execute_result"
    }
   ],
   "source": [
    "workspace.FeedBlob(\"X\", X)"
   ]
  },
  {
   "cell_type": "code",
   "execution_count": 7,
   "metadata": {},
   "outputs": [
    {
     "data": {
      "text/plain": [
       "True"
      ]
     },
     "execution_count": 7,
     "metadata": {},
     "output_type": "execute_result"
    }
   ],
   "source": [
    "workspace.RunOperatorOnce(sqr_op)"
   ]
  },
  {
   "cell_type": "code",
   "execution_count": 8,
   "metadata": {},
   "outputs": [
    {
     "name": "stdout",
     "output_type": "stream",
     "text": [
      "Blobs im Workspace [u'X', u'Z']\n"
     ]
    }
   ],
   "source": [
    "print(\"Blobs im Workspace {}\".format(workspace.Blobs()))"
   ]
  },
  {
   "cell_type": "code",
   "execution_count": 9,
   "metadata": {},
   "outputs": [],
   "source": [
    "Z = workspace.FetchBlob(\"Z\")"
   ]
  },
  {
   "cell_type": "code",
   "execution_count": 10,
   "metadata": {},
   "outputs": [
    {
     "name": "stdout",
     "output_type": "stream",
     "text": [
      "sqr_data:\n",
      "[[[ 0.06094743  0.78662449  0.07425445]\n",
      "  [ 0.40788433  0.72175264  0.00474464]\n",
      "  [ 0.49571174  0.51190269  0.54772258]\n",
      "  [ 0.83928055  0.48852709  0.22227423]\n",
      "  [ 0.18060513  0.1370063   0.00561964]]\n",
      "\n",
      " [[ 0.36022717  0.22011295  0.00159581]\n",
      "  [ 0.87781972  0.04289512  0.85935372]\n",
      "  [ 0.25474641  0.30174243  0.94465458]\n",
      "  [ 0.31424615  0.67489094  0.11145791]\n",
      "  [ 0.43209133  0.4014788   0.01400071]]]\n"
     ]
    }
   ],
   "source": [
    "print(\"sqr_data:\\n{}\".format(Z))"
   ]
  },
  {
   "cell_type": "code",
   "execution_count": null,
   "metadata": {},
   "outputs": [],
   "source": []
  }
 ],
 "metadata": {
  "kernelspec": {
   "display_name": "Python 2",
   "language": "python",
   "name": "python2"
  },
  "language_info": {
   "codemirror_mode": {
    "name": "ipython",
    "version": 2
   },
   "file_extension": ".py",
   "mimetype": "text/x-python",
   "name": "python",
   "nbconvert_exporter": "python",
   "pygments_lexer": "ipython2",
   "version": "2.7.12"
  }
 },
 "nbformat": 4,
 "nbformat_minor": 2
}
