{
 "cells": [
  {
   "cell_type": "code",
   "execution_count": 2,
   "metadata": {},
   "outputs": [
    {
     "name": "stderr",
     "output_type": "stream",
     "text": [
      "WARNING:root:This caffe2 python run does not have GPU support. Will run in CPU only mode.\n",
      "WARNING:root:Debug message: No module named caffe2_pybind11_state_gpu\n"
     ]
    }
   ],
   "source": [
    "from caffe2.python import core, workspace \n",
    "from caffe2.proto import caffe2_pb2\n",
    "import numpy as np\n",
    "import os\n",
    "import shutil \n",
    "import tempfile"
   ]
  },
  {
   "cell_type": "code",
   "execution_count": 3,
   "metadata": {},
   "outputs": [],
   "source": [
    "name = \"Ein Caffe2 Nets\"\n",
    "net = core.Net(name)"
   ]
  },
  {
   "cell_type": "code",
   "execution_count": 4,
   "metadata": {},
   "outputs": [],
   "source": [
    "temp_root = tempfile.mkdtemp()"
   ]
  },
  {
   "cell_type": "code",
   "execution_count": 5,
   "metadata": {},
   "outputs": [
    {
     "name": "stdout",
     "output_type": "stream",
     "text": [
      "/tmp/tmpvma_pz\n"
     ]
    }
   ],
   "source": [
    "print(temp_root)"
   ]
  },
  {
   "cell_type": "code",
   "execution_count": null,
   "metadata": {},
   "outputs": [],
   "source": [
    "net.Iter([], \"iter\")\n",
    "X = net.GaussianFill([], [\"X\"], mean=0.0, std=1.0, shape=[1, 2], run_once=0) W = net.GaussianFill([], [\"W\"], mean=0.0, std=1.0, shape=[5, 2], run_once=0) b = net.ConstantFill([], [\"b\"], shape=[5,], value=1.0, run_once=0)\n",
    "Y = net.FC([X, W, b], [\"Y\"])"
   ]
  }
 ],
 "metadata": {
  "kernelspec": {
   "display_name": "Python 2",
   "language": "python",
   "name": "python2"
  }
 },
 "nbformat": 4,
 "nbformat_minor": 2
}
