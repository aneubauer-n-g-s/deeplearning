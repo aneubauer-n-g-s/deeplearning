{
 "cells": [
  {
   "cell_type": "code",
   "execution_count": 1,
   "metadata": {
    "collapsed": true
   },
   "outputs": [],
   "source": [
    "import tensorflow as tf"
   ]
  },
  {
   "cell_type": "code",
   "execution_count": 2,
   "metadata": {
    "collapsed": true
   },
   "outputs": [],
   "source": [
    "training_data_xor = tf.placeholder(tf.float32, shape=[4,2], name = 'Trainingsdaten')\n",
    "y = tf.placeholder(tf.float32, shape=[4,1], name = 'Ausgabedaten')"
   ]
  },
  {
   "cell_type": "code",
   "execution_count": 4,
   "metadata": {},
   "outputs": [],
   "source": [
    "weights_layer1 = tf.Variable(tf.random_uniform([2,2], -1, 1), name = \"Gewichte_Layer1\")\n",
    "weights_layer2 = tf.Variable(tf.random_uniform([2,1], -1, 1), name = \"Gewichte_Layer2\")\n",
    "bias_layer1 = tf.Variable(tf.zeros([2]), name = \"Bias_Layer1\")\n",
    "bias_layer2 = tf.Variable(tf.zeros([1]), name = \"Bias_Layer2\")"
   ]
  },
  {
   "cell_type": "code",
   "execution_count": 5,
   "metadata": {
    "collapsed": true
   },
   "outputs": [],
   "source": [
    "with tf.name_scope(\"Layer1\") as scope:\n",
    "    hidden_result = tf.sigmoid(tf.matmul(training_data_xor, weights_layer1) + bias_layer1)"
   ]
  },
  {
   "cell_type": "code",
   "execution_count": 6,
   "metadata": {
    "collapsed": true
   },
   "outputs": [],
   "source": [
    "with tf.name_scope(\"Layer2\") as scope:\n",
    "    hidden_error = tf.sigmoid(tf.matmul(hidden_result, weights_layer2) + bias_layer2)"
   ]
  },
  {
   "cell_type": "code",
   "execution_count": 7,
   "metadata": {
    "collapsed": true
   },
   "outputs": [],
   "source": [
    "with tf.name_scope(\"Kostenfunktion\") as scope:\n",
    "    cost = tf.reduce_mean(( (y * tf.log(hidden_error)) + ((1 - y) * tf.log(1.0 -hidden_error)) ) * -1)"
   ]
  },
  {
   "cell_type": "code",
   "execution_count": 8,
   "metadata": {
    "collapsed": true
   },
   "outputs": [],
   "source": [
    "with tf.name_scope(\"Training\") as scope:\n",
    "    learning_rate = 0.01\n",
    "    train_step = tf.train.GradientDescentOptimizer(learning_rate=learning_rate). minimize(cost)"
   ]
  },
  {
   "cell_type": "code",
   "execution_count": 9,
   "metadata": {
    "collapsed": true
   },
   "outputs": [],
   "source": [
    "X = [ [0,0], [0,1], [1,0], [1,1] ]\n",
    "Y = [[0], [1], [1], [0]]"
   ]
  },
  {
   "cell_type": "code",
   "execution_count": 10,
   "metadata": {
    "collapsed": true
   },
   "outputs": [],
   "source": [
    "init = tf.global_variables_initializer()"
   ]
  },
  {
   "cell_type": "code",
   "execution_count": 11,
   "metadata": {
    "collapsed": true
   },
   "outputs": [],
   "source": [
    "s = tf.Session()"
   ]
  },
  {
   "cell_type": "code",
   "execution_count": 12,
   "metadata": {
    "collapsed": true
   },
   "outputs": [],
   "source": [
    "writer = tf.summary.FileWriter(\"./xor_logs\", s.graph)"
   ]
  },
  {
   "cell_type": "code",
   "execution_count": 13,
   "metadata": {
    "collapsed": true
   },
   "outputs": [],
   "source": [
    "s.run(init)"
   ]
  },
  {
   "cell_type": "code",
   "execution_count": 14,
   "metadata": {
    "collapsed": true
   },
   "outputs": [],
   "source": [
    "iterations = 50000"
   ]
  },
  {
   "cell_type": "code",
   "execution_count": 15,
   "metadata": {},
   "outputs": [
    {
     "name": "stdout",
     "output_type": "stream",
     "text": [
      "Iteration  0\n",
      "Fehler  [[ 0.68041635]\n",
      " [ 0.66445917]\n",
      " [ 0.72006077]\n",
      " [ 0.70703143]]\n",
      "Gewichte Layer1  [[ 0.87866956 -0.05241107]\n",
      " [-0.56098348  0.41351989]]\n",
      "Gewichte Layer2  [[ 0.95112437]\n",
      " [ 0.56443226]]\n",
      "Kosten  0.776407\n",
      "Iteration  10000\n",
      "Fehler  [[ 0.49977431]\n",
      " [ 0.47427243]\n",
      " [ 0.53104776]\n",
      " [ 0.49633363]]\n",
      "Gewichte Layer1  [[ 0.73210663 -0.12808858]\n",
      " [-0.97699881  0.41928104]]\n",
      "Gewichte Layer2  [[ 0.76793373]\n",
      " [ 0.38415641]]\n",
      "Kosten  0.689353\n",
      "Iteration  20000\n",
      "Fehler  [[ 0.49041671]\n",
      " [ 0.43839061]\n",
      " [ 0.6121096 ]\n",
      " [ 0.47248328]]\n",
      "Gewichte Layer1  [[ 1.50009573 -0.27435708]\n",
      " [-1.95529246  0.52867848]]\n",
      "Gewichte Layer2  [[ 1.5818547 ]\n",
      " [ 0.51723993]]\n",
      "Kosten  0.657306\n",
      "Iteration  30000\n",
      "Fehler  [[ 0.40399817]\n",
      " [ 0.46668071]\n",
      " [ 0.80536711]\n",
      " [ 0.36700806]]\n",
      "Gewichte Layer1  [[ 3.28600502 -1.44290471]\n",
      " [-3.72678971  1.29705048]]\n",
      "Gewichte Layer2  [[ 3.5158515 ]\n",
      " [ 1.74702585]]\n",
      "Kosten  0.488344\n",
      "Iteration  40000\n",
      "Fehler  [[ 0.16369455]\n",
      " [ 0.84074843]\n",
      " [ 0.90246052]\n",
      " [ 0.13539268]]\n",
      "Gewichte Layer1  [[ 4.67026234 -3.82531285]\n",
      " [-4.89914799  3.49530816]]\n",
      "Gewichte Layer2  [[ 5.57933521]\n",
      " [ 5.12779427]]\n",
      "Kosten  0.150084\n"
     ]
    }
   ],
   "source": [
    "for i in range(iterations):\n",
    "    s.run(train_step, feed_dict={training_data_xor: X, y: Y})\n",
    "    if i % 10000 == 0:\n",
    "        print('Iteration ', i)\n",
    "        print('Fehler ', s.run(hidden_error, feed_dict={training_data_xor: X, y: Y}))\n",
    "        print('Gewichte Layer1 ', s.run(weights_layer1))\n",
    "        print('Gewichte Layer2 ', s.run(weights_layer2))\n",
    "        print('Kosten ', s.run(cost, feed_dict={training_data_xor: X, y: Y}))"
   ]
  },
  {
   "cell_type": "code",
   "execution_count": null,
   "metadata": {
    "collapsed": true
   },
   "outputs": [],
   "source": []
  }
 ],
 "metadata": {
  "kernelspec": {
   "display_name": "Python 3",
   "language": "python",
   "name": "python3"
  },
  "language_info": {
   "codemirror_mode": {
    "name": "ipython",
    "version": 3
   },
   "file_extension": ".py",
   "mimetype": "text/x-python",
   "name": "python",
   "nbconvert_exporter": "python",
   "pygments_lexer": "ipython3",
   "version": "3.6.1"
  }
 },
 "nbformat": 4,
 "nbformat_minor": 2
}
